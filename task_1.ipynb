{
 "cells": [
  {
   "cell_type": "markdown",
   "id": "df5bb33d",
   "metadata": {},
   "source": [
    "# Importieren von Biblioteken"
   ]
  },
  {
   "cell_type": "code",
   "execution_count": 1,
   "id": "52c8499a",
   "metadata": {},
   "outputs": [],
   "source": [
    "import pandas as pd\n",
    "import numpy as np\n",
    "import matplotlib.pyplot as plt"
   ]
  },
  {
   "cell_type": "markdown",
   "id": "8eecbdb0",
   "metadata": {},
   "source": [
    "# Einlesen der Daten"
   ]
  },
  {
   "cell_type": "code",
   "execution_count": 2,
   "id": "0460f371",
   "metadata": {},
   "outputs": [
    {
     "name": "stdout",
     "output_type": "stream",
     "text": [
      "Dataset loaded successfully!\n",
      "Shape: (8662, 22)\n"
     ]
    }
   ],
   "source": [
    "df = pd.read_csv(\"./data/dataset.csv\")\n",
    "print(\"Dataset loaded successfully!\")\n",
    "print(f\"Shape: {df.shape}\")\n",
    "\n",
    "# Speichern für die spätere Verwendung (Ende des Skripts)\n",
    "rows_at_begin = df.shape[0]"
   ]
  },
  {
   "cell_type": "markdown",
   "id": "c4a7471d",
   "metadata": {},
   "source": [
    "# Allgemeine Information der Daten und Säubern der Daten"
   ]
  },
  {
   "cell_type": "code",
   "execution_count": 3,
   "id": "f625d23c",
   "metadata": {},
   "outputs": [
    {
     "data": {
      "text/html": [
       "<div>\n",
       "<style scoped>\n",
       "    .dataframe tbody tr th:only-of-type {\n",
       "        vertical-align: middle;\n",
       "    }\n",
       "\n",
       "    .dataframe tbody tr th {\n",
       "        vertical-align: top;\n",
       "    }\n",
       "\n",
       "    .dataframe thead th {\n",
       "        text-align: right;\n",
       "    }\n",
       "</style>\n",
       "<table border=\"1\" class=\"dataframe\">\n",
       "  <thead>\n",
       "    <tr style=\"text-align: right;\">\n",
       "      <th></th>\n",
       "      <th>Customer_ID</th>\n",
       "      <th>CCreditScore</th>\n",
       "      <th>CGeography</th>\n",
       "      <th>CGender</th>\n",
       "      <th>CAge</th>\n",
       "      <th>CTenure</th>\n",
       "      <th>CBalance</th>\n",
       "      <th>CNumOfProducts</th>\n",
       "      <th>CHasCrCard</th>\n",
       "      <th>CIsActiveMember</th>\n",
       "      <th>...</th>\n",
       "      <th>Account_Age_Months</th>\n",
       "      <th>Avg_Monthly_Transactions</th>\n",
       "      <th>Transaction_Variance</th>\n",
       "      <th>Last_Login_Days_Ago</th>\n",
       "      <th>Support_Tickets_Count</th>\n",
       "      <th>Mobile_App_Usage_Hours</th>\n",
       "      <th>Onboarding_Month</th>\n",
       "      <th>Is_Holiday_Onboarding</th>\n",
       "      <th>Churn</th>\n",
       "      <th>CLV_Continuous</th>\n",
       "    </tr>\n",
       "  </thead>\n",
       "  <tbody>\n",
       "    <tr>\n",
       "      <th>0</th>\n",
       "      <td>CUST_000001</td>\n",
       "      <td>553.295220</td>\n",
       "      <td>France</td>\n",
       "      <td>Male</td>\n",
       "      <td>39</td>\n",
       "      <td>2</td>\n",
       "      <td>131008.168572</td>\n",
       "      <td>1</td>\n",
       "      <td>1</td>\n",
       "      <td>0</td>\n",
       "      <td>...</td>\n",
       "      <td>36.942433</td>\n",
       "      <td>8</td>\n",
       "      <td>4.959478</td>\n",
       "      <td>1.094710</td>\n",
       "      <td>1</td>\n",
       "      <td>7.979899</td>\n",
       "      <td>8</td>\n",
       "      <td>0</td>\n",
       "      <td>0</td>\n",
       "      <td>21696.256022</td>\n",
       "    </tr>\n",
       "    <tr>\n",
       "      <th>1</th>\n",
       "      <td>CUST_000002</td>\n",
       "      <td>552.939394</td>\n",
       "      <td>France</td>\n",
       "      <td>Male</td>\n",
       "      <td>33</td>\n",
       "      <td>4</td>\n",
       "      <td>118529.788812</td>\n",
       "      <td>1</td>\n",
       "      <td>0</td>\n",
       "      <td>0</td>\n",
       "      <td>...</td>\n",
       "      <td>23.748871</td>\n",
       "      <td>11</td>\n",
       "      <td>9.866506</td>\n",
       "      <td>14.809607</td>\n",
       "      <td>0</td>\n",
       "      <td>11.565167</td>\n",
       "      <td>11</td>\n",
       "      <td>0</td>\n",
       "      <td>0</td>\n",
       "      <td>15918.891128</td>\n",
       "    </tr>\n",
       "    <tr>\n",
       "      <th>2</th>\n",
       "      <td>CUST_000003</td>\n",
       "      <td>688.745934</td>\n",
       "      <td>Spain</td>\n",
       "      <td>Male</td>\n",
       "      <td>40</td>\n",
       "      <td>1</td>\n",
       "      <td>-879.724555</td>\n",
       "      <td>2</td>\n",
       "      <td>1</td>\n",
       "      <td>1</td>\n",
       "      <td>...</td>\n",
       "      <td>1.114543</td>\n",
       "      <td>13</td>\n",
       "      <td>6.178311</td>\n",
       "      <td>26.434273</td>\n",
       "      <td>0</td>\n",
       "      <td>3.331838</td>\n",
       "      <td>2</td>\n",
       "      <td>0</td>\n",
       "      <td>0</td>\n",
       "      <td>10361.315773</td>\n",
       "    </tr>\n",
       "    <tr>\n",
       "      <th>3</th>\n",
       "      <td>CUST_000004</td>\n",
       "      <td>771.940664</td>\n",
       "      <td>France</td>\n",
       "      <td>Male</td>\n",
       "      <td>40</td>\n",
       "      <td>9</td>\n",
       "      <td>125563.132706</td>\n",
       "      <td>1</td>\n",
       "      <td>1</td>\n",
       "      <td>0</td>\n",
       "      <td>...</td>\n",
       "      <td>1.662811</td>\n",
       "      <td>12</td>\n",
       "      <td>4.509500</td>\n",
       "      <td>18.540471</td>\n",
       "      <td>2</td>\n",
       "      <td>12.714742</td>\n",
       "      <td>1</td>\n",
       "      <td>1</td>\n",
       "      <td>0</td>\n",
       "      <td>15189.776245</td>\n",
       "    </tr>\n",
       "    <tr>\n",
       "      <th>4</th>\n",
       "      <td>CUST_000005</td>\n",
       "      <td>484.092560</td>\n",
       "      <td>France</td>\n",
       "      <td>Male</td>\n",
       "      <td>55</td>\n",
       "      <td>5</td>\n",
       "      <td>95759.918567</td>\n",
       "      <td>1</td>\n",
       "      <td>0</td>\n",
       "      <td>1</td>\n",
       "      <td>...</td>\n",
       "      <td>24.007725</td>\n",
       "      <td>8</td>\n",
       "      <td>18.786985</td>\n",
       "      <td>11.893918</td>\n",
       "      <td>1</td>\n",
       "      <td>0.719512</td>\n",
       "      <td>2</td>\n",
       "      <td>0</td>\n",
       "      <td>0</td>\n",
       "      <td>14631.814966</td>\n",
       "    </tr>\n",
       "  </tbody>\n",
       "</table>\n",
       "<p>5 rows × 22 columns</p>\n",
       "</div>"
      ],
      "text/plain": [
       "   Customer_ID  CCreditScore CGeography CGender  CAge  CTenure       CBalance  \\\n",
       "0  CUST_000001    553.295220     France    Male    39        2  131008.168572   \n",
       "1  CUST_000002    552.939394     France    Male    33        4  118529.788812   \n",
       "2  CUST_000003    688.745934      Spain    Male    40        1    -879.724555   \n",
       "3  CUST_000004    771.940664     France    Male    40        9  125563.132706   \n",
       "4  CUST_000005    484.092560     France    Male    55        5   95759.918567   \n",
       "\n",
       "   CNumOfProducts  CHasCrCard  CIsActiveMember  ...  Account_Age_Months  \\\n",
       "0               1           1                0  ...           36.942433   \n",
       "1               1           0                0  ...           23.748871   \n",
       "2               2           1                1  ...            1.114543   \n",
       "3               1           1                0  ...            1.662811   \n",
       "4               1           0                1  ...           24.007725   \n",
       "\n",
       "   Avg_Monthly_Transactions  Transaction_Variance  Last_Login_Days_Ago  \\\n",
       "0                         8              4.959478             1.094710   \n",
       "1                        11              9.866506            14.809607   \n",
       "2                        13              6.178311            26.434273   \n",
       "3                        12              4.509500            18.540471   \n",
       "4                         8             18.786985            11.893918   \n",
       "\n",
       "   Support_Tickets_Count  Mobile_App_Usage_Hours  Onboarding_Month  \\\n",
       "0                      1                7.979899                 8   \n",
       "1                      0               11.565167                11   \n",
       "2                      0                3.331838                 2   \n",
       "3                      2               12.714742                 1   \n",
       "4                      1                0.719512                 2   \n",
       "\n",
       "   Is_Holiday_Onboarding  Churn  CLV_Continuous  \n",
       "0                      0      0    21696.256022  \n",
       "1                      0      0    15918.891128  \n",
       "2                      0      0    10361.315773  \n",
       "3                      1      0    15189.776245  \n",
       "4                      0      0    14631.814966  \n",
       "\n",
       "[5 rows x 22 columns]"
      ]
     },
     "execution_count": 3,
     "metadata": {},
     "output_type": "execute_result"
    }
   ],
   "source": [
    "df.head()"
   ]
  },
  {
   "cell_type": "code",
   "execution_count": 4,
   "id": "ad7cbe6d",
   "metadata": {},
   "outputs": [
    {
     "name": "stdout",
     "output_type": "stream",
     "text": [
      "<class 'pandas.core.frame.DataFrame'>\n",
      "RangeIndex: 8662 entries, 0 to 8661\n",
      "Data columns (total 22 columns):\n",
      " #   Column                    Non-Null Count  Dtype  \n",
      "---  ------                    --------------  -----  \n",
      " 0   Customer_ID               8662 non-null   object \n",
      " 1   CCreditScore              8662 non-null   float64\n",
      " 2   CGeography                8662 non-null   object \n",
      " 3   CGender                   8662 non-null   object \n",
      " 4   CAge                      8662 non-null   int64  \n",
      " 5   CTenure                   8662 non-null   int64  \n",
      " 6   CBalance                  8585 non-null   float64\n",
      " 7   CNumOfProducts            8662 non-null   int64  \n",
      " 8   CHasCrCard                8662 non-null   int64  \n",
      " 9   CIsActiveMember           8662 non-null   int64  \n",
      " 10  CEstimatedSalary          7884 non-null   float64\n",
      " 11  Days_Since_Onboarding     8662 non-null   float64\n",
      " 12  Account_Age_Months        8662 non-null   float64\n",
      " 13  Avg_Monthly_Transactions  8662 non-null   int64  \n",
      " 14  Transaction_Variance      8662 non-null   float64\n",
      " 15  Last_Login_Days_Ago       8662 non-null   float64\n",
      " 16  Support_Tickets_Count     8662 non-null   int64  \n",
      " 17  Mobile_App_Usage_Hours    8662 non-null   float64\n",
      " 18  Onboarding_Month          8662 non-null   int64  \n",
      " 19  Is_Holiday_Onboarding     8662 non-null   int64  \n",
      " 20  Churn                     8662 non-null   int64  \n",
      " 21  CLV_Continuous            8662 non-null   float64\n",
      "dtypes: float64(9), int64(10), object(3)\n",
      "memory usage: 1.5+ MB\n",
      "None\n",
      "========================= How much null values are in each column =========================\n",
      "CBalance             77\n",
      "CEstimatedSalary    778\n",
      "dtype: int64\n"
     ]
    }
   ],
   "source": [
    "# Informationen der Spalten anzeigen: Null-Values und Datentypen\n",
    "print(df.info())\n",
    "\n",
    "# Nullwerte explizit ausgeben\n",
    "null_counts = df.isnull().sum()\n",
    "print(\"=\"*25, \"How much null values are in each column\", \"=\"*25)\n",
    "print(null_counts[null_counts > 0])"
   ]
  },
  {
   "cell_type": "code",
   "execution_count": 5,
   "id": "a634fd08",
   "metadata": {},
   "outputs": [
    {
     "name": "stdout",
     "output_type": "stream",
     "text": [
      "Es gibt 0 duplizierte Zeilen im DataFrame.\n"
     ]
    }
   ],
   "source": [
    "# Duplikate finden und ggf. behandeln\n",
    "print(\"Es gibt\", df[df.duplicated()].shape[0], \"duplizierte Zeilen im DataFrame.\")"
   ]
  },
  {
   "cell_type": "markdown",
   "id": "1b827a80",
   "metadata": {},
   "source": [
    "#### Überprüfe und Säubere Identifier"
   ]
  },
  {
   "cell_type": "code",
   "execution_count": 6,
   "id": "44941eaf",
   "metadata": {},
   "outputs": [
    {
     "name": "stdout",
     "output_type": "stream",
     "text": [
      "Es gibt folgende fehlerhafte Customer_IDs, die nicht \"CUST\" im Namen besitzen:  0\n",
      "Es gibt folgende fehlerhafte Customer_IDs, die nicht die länge von 6 Ziffern aufweisen:  0\n",
      "Es gibt folgende fehlerhafte Customer_IDs, die keine numerischen Werte aufweisen:  0\n"
     ]
    }
   ],
   "source": [
    "# Prüfe Customer_ID Format und dass jeder Customer eine ID hat\n",
    "print(\"Es gibt folgende fehlerhafte Customer_IDs, die nicht \\\"CUST\\\" im Namen besitzen: \", df[df[\"Customer_ID\"].str.split(\"_\").str[0] != \"CUST\"].count().values[0])\n",
    "print(\"Es gibt folgende fehlerhafte Customer_IDs, die nicht die länge von 6 Ziffern aufweisen: \", df[df[\"Customer_ID\"].str.split(\"_\").str[1].str.len() != 6].count().values[0])\n",
    "print(\"Es gibt folgende fehlerhafte Customer_IDs, die keine numerischen Werte aufweisen: \", len(df[\"Customer_ID\"].str.split(\"_\").str[1].astype(int).values) if not 8662 else 0)"
   ]
  },
  {
   "cell_type": "markdown",
   "id": "194bf6eb",
   "metadata": {},
   "source": [
    "#### Überprüfe und Säubere Customer Demographics "
   ]
  },
  {
   "cell_type": "code",
   "execution_count": 7,
   "id": "dee49403",
   "metadata": {},
   "outputs": [
    {
     "name": "stdout",
     "output_type": "stream",
     "text": [
      "Unique countries:  ['France' 'Spain' 'Germany' 'SPAIN' 'Fr' 'GERMANY' 'DE' 'spain' 'ES'\n",
      " 'germany' 'france']\n"
     ]
    }
   ],
   "source": [
    "# Spaltennamen mit den erwarteten Spaltennamen (France, Germany, Spain) vergleichen!\n",
    "print(\"Unique countries: \", df['CGeography'].unique())"
   ]
  },
  {
   "cell_type": "code",
   "execution_count": 8,
   "id": "43789e4e",
   "metadata": {},
   "outputs": [
    {
     "name": "stdout",
     "output_type": "stream",
     "text": [
      "Einzigartige Länder nach der Korrektur:  ['France' 'Spain' 'Germany']\n"
     ]
    }
   ],
   "source": [
    "# Ordne jedem Land die korrekten Bezeichnungen zu\n",
    "df['CGeography'] = df['CGeography'].replace({'Fr': 'France', \"france\": 'France'})\n",
    "df['CGeography'] = df['CGeography'].replace({'GERMANY': 'Germany', \"DE\": 'Germany', \"germany\": 'Germany'})\n",
    "df['CGeography'] = df['CGeography'].replace({'SPAIN': 'Spain', \"spain\": 'Spain', \"ES\": 'Spain'})\n",
    "\n",
    "# Überprüfe die einzigartigen Ländernamen erneut\n",
    "print(\"Einzigartige Länder nach der Korrektur: \", df['CGeography'].unique())"
   ]
  },
  {
   "cell_type": "code",
   "execution_count": 9,
   "id": "515ecd75",
   "metadata": {},
   "outputs": [
    {
     "name": "stdout",
     "output_type": "stream",
     "text": [
      "\n",
      "Für Deutschland sortiert nach CCreditScore (aufsteigend):\n",
      "      CCreditScore  CEstimatedSalary\n",
      "2108      0.000000      76204.573000\n",
      "7275      0.000000     119122.582218\n",
      "7082      0.000000     102184.456050\n",
      "4371      0.000000       5659.346530\n",
      "8576      0.000000     185977.261285\n",
      "8170    402.120183     176625.357361\n",
      "7080    402.376014      71966.790507\n",
      "6005    407.673710      92604.079151\n",
      "2828    410.236847      98022.673693\n",
      "4580    415.604882     158313.666226\n",
      "\n",
      "Für Spanien sortiert nach CCreditScore (aufsteigend):\n",
      "      CCreditScore  CEstimatedSalary\n",
      "3030      0.000000     187492.510326\n",
      "199       0.000000      34591.485075\n",
      "7116    363.927239     102626.457556\n",
      "8357    409.868237     113755.261608\n",
      "7402    411.116075      21532.756947\n",
      "358     411.294329      96630.528457\n",
      "286     415.464889      60445.952614\n",
      "6307    417.320459      14701.071458\n",
      "5957    417.763114     135294.698860\n",
      "1713    420.403219     144845.021619\n",
      "\n",
      "Für Frankreich sortiert nach CCreditScore (aufsteigend):\n",
      "      CCreditScore  CEstimatedSalary\n",
      "1140      0.000000      29623.040030\n",
      "6331      0.000000      33964.132028\n",
      "1539      0.000000      50633.576350\n",
      "1169      0.000000     183475.501834\n",
      "1194      0.000000      16581.828641\n",
      "6965      0.000000     126791.523883\n",
      "5222    356.805598     147277.646654\n",
      "8440    406.161731     119471.167072\n",
      "730     407.937045     113116.196729\n",
      "6415    408.661830      93918.100254\n"
     ]
    }
   ],
   "source": [
    "# Überprüfe, ob das Gehalt mit dem Kredit-Score zusammenhängt pro Land\n",
    "germany_data = df[df['CGeography'] == 'Germany'][['CCreditScore', 'CEstimatedSalary']]\n",
    "spain_data = df[df['CGeography'] == 'Spain'][['CCreditScore', 'CEstimatedSalary']]\n",
    "france_data = df[df['CGeography'] == 'France'][['CCreditScore', 'CEstimatedSalary']]\n",
    "\n",
    "print(\"\\nFür Deutschland sortiert nach CCreditScore (aufsteigend):\")\n",
    "germany_sorted = germany_data.sort_values('CCreditScore')\n",
    "print(germany_sorted.head(10))\n",
    "\n",
    "print(\"\\nFür Spanien sortiert nach CCreditScore (aufsteigend):\")\n",
    "spain_data = spain_data.sort_values('CCreditScore')\n",
    "print(spain_data.head(10))\n",
    "\n",
    "print(\"\\nFür Frankreich sortiert nach CCreditScore (aufsteigend):\")\n",
    "france_data = france_data.sort_values('CCreditScore')\n",
    "print(france_data.head(10))"
   ]
  },
  {
   "cell_type": "markdown",
   "id": "e85b94f1",
   "metadata": {},
   "source": [
    "Die Auswertung zeigt eindeutig, dass die Kredit-Scores nicht mit dem Gehalt zusammenhängen können. Deshalb entscheide ich mich dafür, die Nullwerte in den Gehältern mit den mean-values (Mittelwerten) des jeweiligen Landes aufzufüllen. Hierbei entscheide ich mich bewusst für die Gehälter des jeweiligen Landes, da das Lohngefüge unterschiedlich ist."
   ]
  },
  {
   "cell_type": "code",
   "execution_count": 10,
   "id": "e33a8b29",
   "metadata": {},
   "outputs": [
    {
     "name": "stdout",
     "output_type": "stream",
     "text": [
      "Null-Werte vor der Behandlung:\n",
      "Germany: 162\n",
      "Spain: 219\n",
      "France: 397\n",
      "\n",
      "Null-Werte nach der Behandlung:\n",
      "CEstimatedSalary gesamt: 0\n"
     ]
    }
   ],
   "source": [
    "# Fülle Nullwerte mit den durchschnittlichen Gehältern des jeweiligen Landes\n",
    "\n",
    "# Null-Werte vor der Behandlung\n",
    "print(\"Null-Werte vor der Behandlung:\")\n",
    "for country in ['Germany', 'Spain', 'France']:\n",
    "    null_count = df[(df['CGeography'] == country) & (df['CEstimatedSalary'].isnull())].shape[0]\n",
    "    print(f\"{country}: {null_count}\")\n",
    "\n",
    "# Mit fillna() - die saubere Lösung für alle Länder auf einmal\n",
    "df['CEstimatedSalary'] = df.groupby('CGeography')['CEstimatedSalary'].transform(\n",
    "    lambda x: x.fillna(x.mean())\n",
    ")\n",
    "\n",
    "# Null-Werte nach der Behandlung\n",
    "print(\"\\nNull-Werte nach der Behandlung:\")\n",
    "print(f\"CEstimatedSalary gesamt: {df['CEstimatedSalary'].isnull().sum()}\")"
   ]
  },
  {
   "cell_type": "code",
   "execution_count": 11,
   "id": "89655dd0",
   "metadata": {},
   "outputs": [
    {
     "data": {
      "text/html": [
       "<div>\n",
       "<style scoped>\n",
       "    .dataframe tbody tr th:only-of-type {\n",
       "        vertical-align: middle;\n",
       "    }\n",
       "\n",
       "    .dataframe tbody tr th {\n",
       "        vertical-align: top;\n",
       "    }\n",
       "\n",
       "    .dataframe thead th {\n",
       "        text-align: right;\n",
       "    }\n",
       "</style>\n",
       "<table border=\"1\" class=\"dataframe\">\n",
       "  <thead>\n",
       "    <tr style=\"text-align: right;\">\n",
       "      <th></th>\n",
       "      <th>CEstimatedSalary</th>\n",
       "      <th>CBalance</th>\n",
       "      <th>CCreditScore</th>\n",
       "      <th>CAge</th>\n",
       "    </tr>\n",
       "  </thead>\n",
       "  <tbody>\n",
       "    <tr>\n",
       "      <th>5067</th>\n",
       "      <td>125275.729302</td>\n",
       "      <td>-7218.834421</td>\n",
       "      <td>601.813964</td>\n",
       "      <td>31</td>\n",
       "    </tr>\n",
       "    <tr>\n",
       "      <th>6733</th>\n",
       "      <td>101214.306199</td>\n",
       "      <td>-6318.821307</td>\n",
       "      <td>621.521621</td>\n",
       "      <td>34</td>\n",
       "    </tr>\n",
       "    <tr>\n",
       "      <th>429</th>\n",
       "      <td>35745.498370</td>\n",
       "      <td>-6232.571927</td>\n",
       "      <td>569.145246</td>\n",
       "      <td>47</td>\n",
       "    </tr>\n",
       "    <tr>\n",
       "      <th>6680</th>\n",
       "      <td>89729.235369</td>\n",
       "      <td>-6051.110854</td>\n",
       "      <td>498.370343</td>\n",
       "      <td>47</td>\n",
       "    </tr>\n",
       "    <tr>\n",
       "      <th>961</th>\n",
       "      <td>64540.067449</td>\n",
       "      <td>-5770.316433</td>\n",
       "      <td>672.959336</td>\n",
       "      <td>43</td>\n",
       "    </tr>\n",
       "    <tr>\n",
       "      <th>...</th>\n",
       "      <td>...</td>\n",
       "      <td>...</td>\n",
       "      <td>...</td>\n",
       "      <td>...</td>\n",
       "    </tr>\n",
       "    <tr>\n",
       "      <th>7773</th>\n",
       "      <td>70428.508764</td>\n",
       "      <td>-9.436117</td>\n",
       "      <td>703.551191</td>\n",
       "      <td>44</td>\n",
       "    </tr>\n",
       "    <tr>\n",
       "      <th>983</th>\n",
       "      <td>45844.513040</td>\n",
       "      <td>-7.754597</td>\n",
       "      <td>580.184263</td>\n",
       "      <td>38</td>\n",
       "    </tr>\n",
       "    <tr>\n",
       "      <th>706</th>\n",
       "      <td>187159.756162</td>\n",
       "      <td>-7.323913</td>\n",
       "      <td>661.633583</td>\n",
       "      <td>20</td>\n",
       "    </tr>\n",
       "    <tr>\n",
       "      <th>72</th>\n",
       "      <td>30690.266951</td>\n",
       "      <td>-6.509066</td>\n",
       "      <td>581.795665</td>\n",
       "      <td>37</td>\n",
       "    </tr>\n",
       "    <tr>\n",
       "      <th>1558</th>\n",
       "      <td>61854.194911</td>\n",
       "      <td>-0.896123</td>\n",
       "      <td>718.512690</td>\n",
       "      <td>59</td>\n",
       "    </tr>\n",
       "  </tbody>\n",
       "</table>\n",
       "<p>1637 rows × 4 columns</p>\n",
       "</div>"
      ],
      "text/plain": [
       "      CEstimatedSalary     CBalance  CCreditScore  CAge\n",
       "5067     125275.729302 -7218.834421    601.813964    31\n",
       "6733     101214.306199 -6318.821307    621.521621    34\n",
       "429       35745.498370 -6232.571927    569.145246    47\n",
       "6680      89729.235369 -6051.110854    498.370343    47\n",
       "961       64540.067449 -5770.316433    672.959336    43\n",
       "...                ...          ...           ...   ...\n",
       "7773      70428.508764    -9.436117    703.551191    44\n",
       "983       45844.513040    -7.754597    580.184263    38\n",
       "706      187159.756162    -7.323913    661.633583    20\n",
       "72        30690.266951    -6.509066    581.795665    37\n",
       "1558      61854.194911    -0.896123    718.512690    59\n",
       "\n",
       "[1637 rows x 4 columns]"
      ]
     },
     "execution_count": 11,
     "metadata": {},
     "output_type": "execute_result"
    }
   ],
   "source": [
    "# Suche einen Zusammenhang zwischen negativem Kontostand und Gehalt, Kredit-Score, Alter\n",
    "df[df['CBalance'] < 0].sort_values(by=['CBalance'], ascending=True)[['CEstimatedSalary', 'CBalance', 'CCreditScore', 'CAge']]"
   ]
  },
  {
   "cell_type": "markdown",
   "id": "de539ce5",
   "metadata": {},
   "source": [
    "Es ist kein Zusammenhang der CBalance erkennbar. Demnach gehe ich davon aus, dass diese irgendwie berechnet wurde. Folglich könnte man entweder Nullwerte aus der Spalte komplett entfernen oder mit random choice vergeben, um die Zeilen zu erhalten. Ich entscheide mich dafür, dass Nullwerte in CBalance mit zufälligen Werten zwischen dem Minimum und Maximum der Spalte gefüllt werden. "
   ]
  },
  {
   "cell_type": "code",
   "execution_count": 12,
   "id": "5cfa9cdf",
   "metadata": {},
   "outputs": [
    {
     "name": "stdout",
     "output_type": "stream",
     "text": [
      "77 Nullwerte in CBalance wurden mit zufälligen Werten gefüllt (Range: -7218.83 bis +220214.29)\n",
      "Alle Null-Werte wurden erfolgreich behandelt!\n"
     ]
    }
   ],
   "source": [
    "# Fülle Nullwerte in CBalance mit zufälligen Werten zwischen min und max\n",
    "num_nulls = df['CBalance'].isnull().sum()\n",
    "\n",
    "if num_nulls > 0:\n",
    "    # Berechne min und max der CBalance-Spalte (ohne Nullwerte)\n",
    "    min_balance = df['CBalance'].min()\n",
    "    max_balance = df['CBalance'].max()\n",
    "    \n",
    "    # Fülle Nullwerte mit zufälligen Werten zwischen min und max\n",
    "    random_values = np.random.uniform(min_balance, max_balance, num_nulls)\n",
    "    df.loc[df['CBalance'].isnull(), 'CBalance'] = random_values\n",
    "    \n",
    "    print(f\"{num_nulls} Nullwerte in CBalance wurden mit zufälligen Werten gefüllt (Range: {min_balance:.2f} bis +{max_balance:.2f})\")\n",
    "\n",
    "# Überprüfen, ob noch Null-Werte vorhanden sind\n",
    "null_counts = df.isnull().sum()\n",
    "if null_counts.sum() == 0:\n",
    "    print(\"Alle Null-Werte wurden erfolgreich behandelt!\")"
   ]
  },
  {
   "cell_type": "code",
   "execution_count": 13,
   "id": "6a62e147",
   "metadata": {},
   "outputs": [
    {
     "name": "stdout",
     "output_type": "stream",
     "text": [
      "Einzigartige Geschlechter:  ['Male' 'Female']\n"
     ]
    }
   ],
   "source": [
    "# Überprüfe das Geschlecht auf korrekte Werte\n",
    "print(\"Einzigartige Geschlechter: \", df['CGender'].unique())"
   ]
  },
  {
   "cell_type": "code",
   "execution_count": 14,
   "id": "1ddda3b0",
   "metadata": {},
   "outputs": [
    {
     "name": "stdout",
     "output_type": "stream",
     "text": [
      "========================= Statistik Altersstruktur vor Bearbeitung =========================\n",
      "count    8662.000000\n",
      "mean       38.452205\n",
      "std        23.230659\n",
      "min        -1.000000\n",
      "25%        31.000000\n",
      "50%        36.000000\n",
      "75%        42.000000\n",
      "max       999.000000\n",
      "Name: CAge, dtype: float64 \n",
      "\n",
      "Davon sind 2 Personen unter 18 Jahre.\n",
      "Davon sind 9 Personen über 99 Jahre. \n",
      "\n",
      "========================= Statistik Altersstruktur nach Bearbeitung =========================\n",
      "count    8662.000000\n",
      "mean       38.011545\n",
      "std        10.474478\n",
      "min        18.000000\n",
      "25%        31.000000\n",
      "50%        36.000000\n",
      "75%        42.000000\n",
      "max        99.000000\n",
      "Name: CAge, dtype: float64 \n",
      "\n",
      "Nach der Bearbeitung gibt es 0 Personen unter 18 Jahre.\n",
      "Nach der Bearbeitung gibt es 0 Personen über 99 Jahre.\n"
     ]
    }
   ],
   "source": [
    "# Überprüfe das Alter der Personen\n",
    "print('='*25, \"Statistik Altersstruktur vor Bearbeitung\", '='*25)\n",
    "print(df['CAge'].describe(), '\\n')\n",
    "\n",
    "# Überprüfe Geschäftsfähigkeit und Volljährigkeit (Grenze: 18 Jahre)\n",
    "print(\"Davon sind\", df.loc[df[\"CAge\"] < 18].count()[\"CAge\"], \"Personen unter 18 Jahre.\") \n",
    "\n",
    "# Überprüfe extrem hohe Werte für das Alter (Grenze: 99 Jahre)\n",
    "print(\"Davon sind\", df.loc[df[\"CAge\"] > 99].count()[\"CAge\"], \"Personen über 99 Jahre.\", \"\\n\")\n",
    "\n",
    "# Setze Personen unter 18 Jahre auf 18 Jahre und Personen über 99 Jahre auf 99 Jahre\n",
    "df.loc[df[\"CAge\"] < 18] = 18\n",
    "df.loc[df[\"CAge\"] > 99] = 99\n",
    "\n",
    "print('='*25, \"Statistik Altersstruktur nach Bearbeitung\", '='*25)\n",
    "print(df['CAge'].describe(), '\\n')\n",
    "\n",
    "# Überprüfe Geschäftsfähigkeit und Volljährigkeit (Grenze: 18 Jahre)\n",
    "print(\"Nach der Bearbeitung gibt es\", df.loc[df[\"CAge\"] < 18].count()[\"CAge\"], \"Personen unter 18 Jahre.\") \n",
    "\n",
    "# Überprüfe extrem hohe Werte für das Alter (Grenze: 99 Jahre)\n",
    "print(\"Nach der Bearbeitung gibt es\", df.loc[df[\"CAge\"] > 99].count()[\"CAge\"], \"Personen über 99 Jahre.\")"
   ]
  },
  {
   "cell_type": "code",
   "execution_count": 15,
   "id": "ec5321ff",
   "metadata": {},
   "outputs": [
    {
     "name": "stdout",
     "output_type": "stream",
     "text": [
      "Vor der Bearbeitung gibt es folgende financial products:  [ 1  2  3 99  4 18] \n",
      "\n",
      "Davon gibt es 9 Zeilen mit dem Wert 99.\n",
      "\n",
      "     Customer_ID  CCreditScore CGeography CGender  CAge  CTenure  CBalance  \\\n",
      "853           99          99.0         99      99    99       99      99.0   \n",
      "954           99          99.0         99      99    99       99      99.0   \n",
      "1916          99          99.0         99      99    99       99      99.0   \n",
      "2982          99          99.0         99      99    99       99      99.0   \n",
      "3009          99          99.0         99      99    99       99      99.0   \n",
      "5526          99          99.0         99      99    99       99      99.0   \n",
      "5878          99          99.0         99      99    99       99      99.0   \n",
      "6449          99          99.0         99      99    99       99      99.0   \n",
      "7573          99          99.0         99      99    99       99      99.0   \n",
      "8064          18          18.0         18      18    18       18      18.0   \n",
      "8621          18          18.0         18      18    18       18      18.0   \n",
      "\n",
      "      CNumOfProducts  CHasCrCard  CIsActiveMember  ...  Account_Age_Months  \\\n",
      "853               99          99               99  ...                99.0   \n",
      "954               99          99               99  ...                99.0   \n",
      "1916              99          99               99  ...                99.0   \n",
      "2982              99          99               99  ...                99.0   \n",
      "3009              99          99               99  ...                99.0   \n",
      "5526              99          99               99  ...                99.0   \n",
      "5878              99          99               99  ...                99.0   \n",
      "6449              99          99               99  ...                99.0   \n",
      "7573              99          99               99  ...                99.0   \n",
      "8064              18          18               18  ...                18.0   \n",
      "8621              18          18               18  ...                18.0   \n",
      "\n",
      "      Avg_Monthly_Transactions  Transaction_Variance  Last_Login_Days_Ago  \\\n",
      "853                         99                  99.0                 99.0   \n",
      "954                         99                  99.0                 99.0   \n",
      "1916                        99                  99.0                 99.0   \n",
      "2982                        99                  99.0                 99.0   \n",
      "3009                        99                  99.0                 99.0   \n",
      "5526                        99                  99.0                 99.0   \n",
      "5878                        99                  99.0                 99.0   \n",
      "6449                        99                  99.0                 99.0   \n",
      "7573                        99                  99.0                 99.0   \n",
      "8064                        18                  18.0                 18.0   \n",
      "8621                        18                  18.0                 18.0   \n",
      "\n",
      "      Support_Tickets_Count  Mobile_App_Usage_Hours  Onboarding_Month  \\\n",
      "853                      99                    99.0                99   \n",
      "954                      99                    99.0                99   \n",
      "1916                     99                    99.0                99   \n",
      "2982                     99                    99.0                99   \n",
      "3009                     99                    99.0                99   \n",
      "5526                     99                    99.0                99   \n",
      "5878                     99                    99.0                99   \n",
      "6449                     99                    99.0                99   \n",
      "7573                     99                    99.0                99   \n",
      "8064                     18                    18.0                18   \n",
      "8621                     18                    18.0                18   \n",
      "\n",
      "      Is_Holiday_Onboarding  Churn  CLV_Continuous  \n",
      "853                      99     99            99.0  \n",
      "954                      99     99            99.0  \n",
      "1916                     99     99            99.0  \n",
      "2982                     99     99            99.0  \n",
      "3009                     99     99            99.0  \n",
      "5526                     99     99            99.0  \n",
      "5878                     99     99            99.0  \n",
      "6449                     99     99            99.0  \n",
      "7573                     99     99            99.0  \n",
      "8064                     18     18            18.0  \n",
      "8621                     18     18            18.0  \n",
      "\n",
      "[11 rows x 22 columns]\n",
      "\n",
      " Nach der Bearbeitung gibt es folgende financial products:  [1 2 3 4] \n",
      "\n"
     ]
    }
   ],
   "source": [
    "# Prüfe Art der Finanzprodukte (Sollte nur 1-4 geben)\n",
    "print(\"Vor der Bearbeitung gibt es folgende financial products: \", df['CNumOfProducts'].unique(), \"\\n\")\n",
    "\n",
    "# Zeige fehlerhafte Einträge\n",
    "print(\"Davon gibt es\", df[df['CNumOfProducts'] == 99].count()[['CNumOfProducts']].values[0], \"Zeilen mit dem Wert 99.\\n\")\n",
    "\n",
    "# Zeige fehlerhafte Einträge\n",
    "print(df[(df['CNumOfProducts'].isin([18, 99]))])\n",
    "\n",
    "# Entferne fehlerhafte Einträge mit der Zahl 99 und 18 und prüfe Anzahl Zeilen\n",
    "df = df[~df['CNumOfProducts'].isin([99, 18])]\n",
    "\n",
    "# Prüfe Art der Finanzprodukte (Sollte nur 1-4 geben)\n",
    "print(\"\\n Nach der Bearbeitung gibt es folgende financial products: \", df['CNumOfProducts'].unique(), \"\\n\")"
   ]
  },
  {
   "cell_type": "code",
   "execution_count": 16,
   "id": "0257f75a",
   "metadata": {},
   "outputs": [
    {
     "data": {
      "image/png": "[encoded data removed]",
      "text/plain": [
       "<Figure size 1400x1000 with 4 Axes>"
      ]
     },
     "metadata": {},
     "output_type": "display_data"
    }
   ],
   "source": [
    "# Boxplots zur Identifikation von Outliers in den demografischen Daten (hint: hätte man auch mit allen Werten auf einmal machen können)\n",
    "fig, axes = plt.subplots(2, 2, figsize=(14, 10))\n",
    "fig.suptitle('Boxplots für numerische Variablen', fontsize=16, fontweight='bold')\n",
    "\n",
    "# CCreditScore\n",
    "axes[0, 0].boxplot(df['CCreditScore'])\n",
    "axes[0, 0].set_title('Credit Score')\n",
    "axes[0, 0].set_ylabel('Wert')\n",
    "axes[0, 0].grid(True, alpha=0.3)\n",
    "\n",
    "# CTenure\n",
    "axes[0, 1].boxplot(df['CTenure'])\n",
    "axes[0, 1].set_title('CTenure (Jahre)')\n",
    "axes[0, 1].set_ylabel('Wert')\n",
    "axes[0, 1].grid(True, alpha=0.3)\n",
    "\n",
    "# CBalance\n",
    "axes[1, 0].boxplot(df['CBalance'])\n",
    "axes[1, 0].set_title('Balance')\n",
    "axes[1, 0].set_ylabel('Wert')\n",
    "axes[1, 0].grid(True, alpha=0.3)\n",
    "\n",
    "# CEstimatedSalary\n",
    "axes[1, 1].boxplot(df['CEstimatedSalary'])\n",
    "axes[1, 1].set_title('Estimated Salary')\n",
    "axes[1, 1].set_ylabel('Wert')\n",
    "axes[1, 1].grid(True, alpha=0.3)\n",
    "\n",
    "plt.tight_layout()\n",
    "plt.show()"
   ]
  },
  {
   "cell_type": "markdown",
   "id": "ec2c3950",
   "metadata": {},
   "source": [
    "Zur Behandlung von Ausreißern (Outlier) gibt es verschiedene Methoden. Eine recht einfache Methode, die IQR - Methode soll hier zur Anwendung kommen. In der Praxis werden dabei meist Werte der Inter-Quartil-Range von 1.5 bis 3 angenommen. Aus dem obgigen Boxplot und der Berechnung (siehe unten) wird ersichtlich, dass ein iqr von 1,5 für die Spalte CCreditScore ausreichend ist."
   ]
  },
  {
   "cell_type": "code",
   "execution_count": 17,
   "id": "8e17dab2",
   "metadata": {},
   "outputs": [
    {
     "name": "stdout",
     "output_type": "stream",
     "text": [
      "Der untere Wert des Kredit Scores liegt bei:  0.0\n",
      "Die untere Grenze des Kredit Scores liegt bei:  384.99309032271367\n",
      "Der obere Wert des Kredit Scores liegt bei:  857.4577549530931\n",
      "Die obere Grenze des Kredit Scores liegt bei:  916.7261354238958\n",
      "Es wurden insgesamt 15 Zeilen entfernt.\n"
     ]
    }
   ],
   "source": [
    "# Berechne Inter Quantile Range (IQR) für CCreditScore\n",
    "def inter_quartile_range(column: pd.Series, iqr: float=1.5) -> tuple:\n",
    "    \"\"\"\n",
    "    Berechnet die Interquartilbereichsgrenzen für eine gegebene Spalte.\n",
    "    Args:\n",
    "        column (pd.Series): Die Spalte, für die die IQR-Grenzen berechnet werden sollen.\n",
    "    Returns:\n",
    "        tuple: Ein Tupel mit dem unteren und oberen Grenzwert des IQR.\n",
    "    \"\"\"\n",
    "    Q3 = np.quantile(column, 0.75)\n",
    "    Q1 = np.quantile(column, 0.25)\n",
    "    IQR = Q3 - Q1\n",
    "    lower_bound = Q1 - iqr * IQR\n",
    "    upper_bound = Q3 + iqr * IQR\n",
    "    return lower_bound, upper_bound\n",
    "\n",
    "lower_bound, upper_bound = inter_quartile_range(df['CCreditScore'])\n",
    "\n",
    "# Brechne Anzahl Zeilen vor Bearbeitung\n",
    "rows_before = df.shape[0]\n",
    "\n",
    "# Ausgabe der Werte und Grenzen (siehe auch Boxplot oben)\n",
    "print(\"Der untere Wert des Kredit Scores liegt bei: \", df['CCreditScore'].min())\n",
    "print(\"Die untere Grenze des Kredit Scores liegt bei: \", lower_bound)\n",
    "print(\"Der obere Wert des Kredit Scores liegt bei: \", df['CCreditScore'].max())\n",
    "print(\"Die obere Grenze des Kredit Scores liegt bei: \", upper_bound)\n",
    "\n",
    "# Entferne Ausreißer mit der Inter-Quantile-Range (IQR)-Methode\n",
    "df = df[(df['CCreditScore'] >= lower_bound) & (df['CCreditScore'] <= upper_bound)]\n",
    "\n",
    "# Brechne Anzahl Zeilen nach Bearbeitung\n",
    "rows_after = df.shape[0]\n",
    "\n",
    "# Ausgabe\n",
    "print(\"Es wurden insgesamt\", rows_before - rows_after, \"Zeilen entfernt.\")"
   ]
  },
  {
   "cell_type": "code",
   "execution_count": 18,
   "id": "e13c0be9",
   "metadata": {},
   "outputs": [
    {
     "name": "stdout",
     "output_type": "stream",
     "text": [
      "Werte für CHasCrCard: [1 0]\n",
      "Werte für CIsActiveMember: [0 1]\n"
     ]
    }
   ],
   "source": [
    "# Überprüfe die Werte für eine Kreditkarte (erlaubt: 0 oder 1)\n",
    "print(\"Werte für CHasCrCard:\", df['CHasCrCard'].unique())\n",
    "\n",
    "# Überprüfe die Werte für eine aktive Mitgliedschaft (erlaubt: 0 oder 1)\n",
    "print(\"Werte für CIsActiveMember:\", df['CIsActiveMember'].unique())"
   ]
  },
  {
   "cell_type": "markdown",
   "id": "8620bfa5",
   "metadata": {},
   "source": [
    "#### Überprüfe und Säubere Temporal & Behavioral Features"
   ]
  },
  {
   "cell_type": "code",
   "execution_count": 19,
   "id": "390da024",
   "metadata": {},
   "outputs": [
    {
     "name": "stdout",
     "output_type": "stream",
     "text": [
      "Index(['Customer_ID', 'CCreditScore', 'CGeography', 'CGender', 'CAge',\n",
      "       'CTenure', 'CBalance', 'CNumOfProducts', 'CHasCrCard',\n",
      "       'CIsActiveMember', 'CEstimatedSalary', 'Account_Age_Months',\n",
      "       'Avg_Monthly_Transactions', 'Transaction_Variance',\n",
      "       'Last_Login_Days_Ago', 'Support_Tickets_Count',\n",
      "       'Mobile_App_Usage_Hours', 'Onboarding_Month', 'Is_Holiday_Onboarding',\n",
      "       'Churn', 'CLV_Continuous'],\n",
      "      dtype='object')\n"
     ]
    }
   ],
   "source": [
    "# Aufgrund von Redundanz und dem Vorschlag für die Spalte Account_Age_Months, werde ich diese entfernen\n",
    "df.drop(['Days_Since_Onboarding'], axis=1, inplace=True)\n",
    "print(df.columns)"
   ]
  },
  {
   "cell_type": "code",
   "execution_count": 20,
   "id": "a20e60c4",
   "metadata": {},
   "outputs": [
    {
     "name": "stdout",
     "output_type": "stream",
     "text": [
      "Es gibt folgende Werte:  [ 8 11  2  1  3  5  7 10  9  4  6 12] \n",
      "\n",
      "Unique seasons assigned:  ['Summer', 'Autumn', 'Winter', 'Spring']\n",
      "Categories (4, object): ['Autumn', 'Spring', 'Summer', 'Winter'] \n",
      "\n",
      "Verteilung der Jahreszeiten:\n",
      "season\n",
      "Winter    2192\n",
      "Summer    2184\n",
      "Spring    2148\n",
      "Autumn    2112\n",
      "Name: count, dtype: int64\n",
      "\n",
      "Es wurden insgesamt 8636 Zeilen mit Jahreszeiten befüllt.\n"
     ]
    }
   ],
   "source": [
    "# Überprüfe die Werte in der Spalte Onboarding_Month\n",
    "print(\"Es gibt folgende Werte: \", df['Onboarding_Month'].unique(), \"\\n\")\n",
    "\n",
    "# Pattern-Matching\n",
    "num_months = {1: \"January\", 2: \"February\", 3: \"March\", 4: \"April\", 5: \"May\", 6: \"June\", 7: \"July\",\n",
    "            8: \"August\", 9: \"September\", 10: \"October\", 11: \"November\", 12: \"December\"}\n",
    "\n",
    "seasons = {\n",
    "    'Winter': ['December', 'January', 'February'],\n",
    "    'Spring': ['March', 'April', 'May'],\n",
    "    'Summer': ['June', 'July', 'August'],\n",
    "    'Autumn': ['September', 'October', 'November']\n",
    "}\n",
    "\n",
    "# Mapping-Funktion für die Jahreszeiten\n",
    "def get_season(month: int) -> str:\n",
    "    month_name = num_months[month]\n",
    "    for season, months in seasons.items():\n",
    "        if month_name in months:\n",
    "            return season\n",
    "    return \"Unknown\"\n",
    "\n",
    "# Neue Spalte season mit Jahreszeiten befüllen und zum Datensatz hinzufügen\n",
    "df['season'] = df['Onboarding_Month'].apply(get_season).astype('category')\n",
    "\n",
    "# Ausgabe (Summary)\n",
    "print(\"Unique seasons assigned: \", df['season'].unique(), \"\\n\")\n",
    "print(\"Verteilung der Jahreszeiten:\")\n",
    "print(df['season'].value_counts())\n",
    "print(f\"\\nEs wurden insgesamt {df.shape[0]} Zeilen mit Jahreszeiten befüllt.\")"
   ]
  },
  {
   "cell_type": "code",
   "execution_count": 21,
   "id": "87e51fa1",
   "metadata": {},
   "outputs": [
    {
     "data": {
      "image/png": "[encoded data removed]",
      "text/plain": [
       "<Figure size 1400x1000 with 6 Axes>"
      ]
     },
     "metadata": {},
     "output_type": "display_data"
    }
   ],
   "source": [
    "# Boxplots zur Identifikation von Ausreißern bei den Temporal & Behavioral Features\n",
    "fig, axes = plt.subplots(2, 3, figsize=(14, 10))\n",
    "fig.suptitle('Boxplots für numerische Variablen', fontsize=16, fontweight='bold')\n",
    "\n",
    "# CAccount_Age_Months\n",
    "axes[0, 0].boxplot(df['Account_Age_Months'])\n",
    "axes[0, 0].set_title('Account Age (Monate)')\n",
    "axes[0, 0].set_ylabel('Wert')\n",
    "axes[0, 0].grid(True, alpha=0.3)\n",
    "\n",
    "# CAvg_Monthly_Transactions\n",
    "axes[0, 1].boxplot(df['Avg_Monthly_Transactions'])\n",
    "axes[0, 1].set_title('Avg. Monthly Transactions')\n",
    "axes[0, 1].set_ylabel('Wert')\n",
    "axes[0, 1].grid(True, alpha=0.3)\n",
    "\n",
    "# CTransaction_Variance\n",
    "axes[0, 2].boxplot(df['Transaction_Variance'])\n",
    "axes[0, 2].set_title('Transaction Variance')\n",
    "axes[0, 2].set_ylabel('Wert')\n",
    "axes[0, 2].grid(True, alpha=0.3)\n",
    "\n",
    "# Last Login\n",
    "axes[1, 0].boxplot(df['Last_Login_Days_Ago'])\n",
    "axes[1, 0].set_title('Last Login (Tage)')\n",
    "axes[1, 0].set_ylabel('Wert')\n",
    "axes[1, 0].grid(True, alpha=0.3)\n",
    "\n",
    "# Support Tickets\n",
    "axes[1, 1].boxplot(df['Support_Tickets_Count'])\n",
    "axes[1, 1].set_title('Support Tickets (Anzahl)')\n",
    "axes[1, 1].set_ylabel('Wert')\n",
    "axes[1, 1].grid(True, alpha=0.3)\n",
    "\n",
    "# Mobile Usage\n",
    "axes[1, 2].boxplot(df['Mobile_App_Usage_Hours'])\n",
    "axes[1, 2].set_title('Mobile App Usage (Stunden)')\n",
    "axes[1, 2].set_ylabel('Wert')\n",
    "axes[1, 2].grid(True, alpha=0.3)\n",
    "\n",
    "plt.tight_layout()\n",
    "plt.show()"
   ]
  },
  {
   "cell_type": "markdown",
   "id": "69231e94",
   "metadata": {},
   "source": [
    "Insgesamt beginnen Werte minimum bei 0. Die Spalte \"Account_Age_Months\" wird nicht mit IQR behandelt, da es sich bei Ausreißern um Langzeitkunden handeln könnte. Demnach würden wichtige Informationen entfernt. Genauso würden Kunden, die lange nicht eingeloggt waren, aber nicht gekündigt haben, ein besonderes Nutzungsmuster darstellen. Ggf. sind dies \"passive\" Kunden, die das Konto behalten, aber kaum nutzen. Für die Anzahl der Tickets würde ich eine IQR von 3 vorschlagen (nicht so extrem). Mehr Tickets könnten darauf hindeuten, dass es zu Fehlern beim erstellen gekommen ist, wie zum Beispiel durch Duplikate oder es wurden Tickets abgesendet, aber nicht richtig ausgefüllt (Neuerstellung notwendig für die gleiche Transaktion). Bei den App-Nutzern würde ich die Werte belassen. Es gibt eben Personen die sehr oft auf ihr Konto schauen und Personen die dies weniger tun. Insgesamt gibt es keine rießigen Ausreißer. Deshalb erscheinen die Daten valide. Die monatlichen Transaktionen könnten mit der IQR - Methode bereinigt werden. Dadurch würde die Varianz der Transaktionen weniger streuen.  "
   ]
  },
  {
   "cell_type": "code",
   "execution_count": 22,
   "id": "adeedce7",
   "metadata": {},
   "outputs": [
    {
     "name": "stdout",
     "output_type": "stream",
     "text": [
      "Support_Tickets_Count - Untere Grenze: -3.0\n",
      "Support_Tickets_Count - Obere Grenze: 4.0\n",
      "Es wurden insgesamt 18 Zeilen entfernt.\n"
     ]
    }
   ],
   "source": [
    "# Zähle die Anzahl der Zeilen vor der Bearbeitung\n",
    "rows_before = df.shape[0]\n",
    "\n",
    "# Berechne Inter Quantile Range (IQR) für Support_Tickets_Count\n",
    "lower_bound, upper_bound = inter_quartile_range(column=df['Support_Tickets_Count'], iqr=3)\n",
    "print(\"Support_Tickets_Count - Untere Grenze:\", lower_bound)\n",
    "print(\"Support_Tickets_Count - Obere Grenze:\", upper_bound)\n",
    "\n",
    "# Entferne Ausreißer mit der Inter-Quantile-Range (IQR)-Methode\n",
    "df = df[(df['Support_Tickets_Count'] >= lower_bound) & (df['Support_Tickets_Count'] <= upper_bound)]\n",
    "\n",
    "# Zähle die Anzahl der Zeilen nach der Bearbeitung\n",
    "rows_after = df.shape[0]\n",
    "\n",
    "# Ausgabe\n",
    "print(\"Es wurden insgesamt\", rows_before - rows_after, \"Zeilen entfernt.\")"
   ]
  },
  {
   "cell_type": "code",
   "execution_count": 23,
   "id": "692572af",
   "metadata": {},
   "outputs": [
    {
     "name": "stdout",
     "output_type": "stream",
     "text": [
      "Avg_Monthly_Transactions - Untere Grenze: 4.0\n",
      "Avg_Monthly_Transactions - Obere Grenze: 20.0\n",
      "Es wurden insgesamt 108 Zeilen entfernt.\n"
     ]
    }
   ],
   "source": [
    "# Zähle die Anzahl der Zeilen vor der Bearbeitung\n",
    "rows_before = df.shape[0]\n",
    "\n",
    "# Berechne Inter Quantile Range (IQR) für Avg_Monthly_Transactions\n",
    "lower_bound, upper_bound = inter_quartile_range(column=df['Avg_Monthly_Transactions'], iqr=1.5)\n",
    "print(\"Avg_Monthly_Transactions - Untere Grenze:\", lower_bound)\n",
    "print(\"Avg_Monthly_Transactions - Obere Grenze:\", upper_bound)\n",
    "\n",
    "# Entferne Ausreißer mit der Inter-Quantile-Range (IQR)-Methode\n",
    "df = df[(df['Avg_Monthly_Transactions'] >= lower_bound) & (df['Avg_Monthly_Transactions'] <= upper_bound)]\n",
    "\n",
    "# Zähle die Anzahl der Zeilen nach der Bearbeitung\n",
    "rows_after = df.shape[0]\n",
    "\n",
    "# Ausgabe\n",
    "print(\"Es wurden insgesamt\", rows_before - rows_after, \"Zeilen entfernt.\")"
   ]
  },
  {
   "cell_type": "code",
   "execution_count": 24,
   "id": "1570ad96",
   "metadata": {},
   "outputs": [
    {
     "data": {
      "image/png": "[encoded data removed]",
      "text/plain": [
       "<Figure size 1400x1000 with 2 Axes>"
      ]
     },
     "metadata": {},
     "output_type": "display_data"
    }
   ],
   "source": [
    "# Boxplots zur Identifikation von Ausreißern zur Überprüfung\n",
    "fig, axes = plt.subplots(1, 2, figsize=(14, 10))\n",
    "fig.suptitle('Boxplots für numerische Variablen', fontsize=16, fontweight='bold')\n",
    "\n",
    "# CAvg_Monthly_Transactions\n",
    "axes[0].boxplot(df['Avg_Monthly_Transactions'])\n",
    "axes[0].set_title('Avg. Monthly Transactions')\n",
    "axes[0].set_ylabel('Wert')\n",
    "\n",
    "# CTransaction_Variance\n",
    "axes[1].boxplot(df['Transaction_Variance'])\n",
    "axes[1].set_title('Transaction Variance')\n",
    "axes[1].set_ylabel('Wert')\n",
    "axes[1].grid(True, alpha=0.3)"
   ]
  },
  {
   "cell_type": "markdown",
   "id": "2d374537",
   "metadata": {},
   "source": [
    "Mit IQR von 1.5 wurden insgesamt zwar 108 Zeilen entfernt, aber die monatliche Transaktionsrate besteht nun ohne Ausreißer. Insgesamt können Transaktionen zwar einen niedrigen Durchschnitt (z.B. 5 Transaktionen/Monat), aber eine hohe Varianz haben (mal 0, mal 15 Transaktionen). Dabei handelt es sich um ein legitimes Verhaltensmuster und keinen Fehler. Beispielsweise würde ein Student selten Transaktionen ausführen (niedriger Avg). Sobald er Geld bekommt, würde er viele Transaktionen durchführen (hohe Varianz). Weitere Beispiele erklären sich von selbst. Demnach ist die Variance mehr oder weniger vairabel/flexibel und besitzt eine höhere Anzahl von \"Ausreißern\". Aus diesem Grund würde ich die Varianz auch nicht weiter behandeln."
   ]
  },
  {
   "cell_type": "markdown",
   "id": "f916716b",
   "metadata": {},
   "source": [
    "#### Überprüfe und Säubere Target Variables"
   ]
  },
  {
   "cell_type": "code",
   "execution_count": 25,
   "id": "90ca6c91",
   "metadata": {},
   "outputs": [
    {
     "name": "stdout",
     "output_type": "stream",
     "text": [
      "Es gibt für die Spalte Churn insgesamt folgende Werte: [0 1] \n",
      "\n",
      "Es wurden insgesamt folgende Churn-Kategorien gefunden: ['No Churn', 'Churn']\n",
      "Categories (2, object): ['Churn', 'No Churn'] \n",
      "\n",
      "Es wurden insgesamt: 8510 Zeilen hinzugefügt. Von insgesamt: 8510 \n",
      "\n"
     ]
    },
    {
     "data": {
      "image/png": "[encoded data removed]",
      "text/plain": [
       "<Figure size 640x480 with 1 Axes>"
      ]
     },
     "metadata": {},
     "output_type": "display_data"
    }
   ],
   "source": [
    "# Überprüfe die Spalte Churn\n",
    "print(\"Es gibt für die Spalte Churn insgesamt folgende Werte:\", df['Churn'].unique(), \"\\n\")\n",
    "\n",
    "# Füge eine neue (extra) Spalte Churn_Category zum Datensatz hinzu\n",
    "df['Churn_Category'] = df['Churn'].apply(lambda x: 'No Churn' if x == 0 else 'Churn' if x == 1 else 'Unknown').astype('category')\n",
    "\n",
    "# Prüfe die neue Spalte Churn_Category\n",
    "print(\"Es wurden insgesamt folgende Churn-Kategorien gefunden:\", df['Churn_Category'].unique(), \"\\n\")\n",
    "print(\"Es wurden insgesamt:\", len(df['Churn_Category']), \"Zeilen hinzugefügt. Von insgesamt:\", df.shape[0], \"\\n\")\n",
    "\n",
    "# BarChart der Spalte Churn mit den Klassen 0 und 1\n",
    "churn_counts = df['Churn'].value_counts().sort_index()\n",
    "bars = plt.bar(churn_counts.index, churn_counts.values, edgecolor='black', alpha=0.7, width=0.6)\n",
    "plt.title('Churn Distribution')\n",
    "plt.xlabel('Churn (0 = No Churn, 1 = Churn)')\n",
    "plt.ylabel('Häufigkeit')\n",
    "plt.xticks([0, 1])\n",
    "plt.grid(axis='y', alpha=0.3)\n",
    "bars = plt.bar_label(bars, fmt='%d')\n",
    "plt.show()"
   ]
  },
  {
   "cell_type": "markdown",
   "id": "2dc1435f",
   "metadata": {},
   "source": [
    "Das sog. \"target label\" für Churn ist unbalanciert. Nur rund 7,9% der Datensätze sind Churn = 1. D. h. wenig Kunden wandern ab (positiv). Im Gegensatz dazu sind No Churn labels mit 92,1% im Datensatz vertreten. Das bedeutet die Machine Learning Modelle werden Churns (Minderheitsklasse) nicht gut bzw. richtig prädizieren. Folglich würde die Accuracy zwar hoch ausfallen, aber nur, weil die Mehrheitsklasse richtig prädiziert würde. Anders ausgedrückt würde überwiegend die Mehrheitsklasse richtig präziziert werden. Ellgemein sollte eine Accuracy von z.B. über 90% jeden Anwender eher stutzig machen. \n",
    "\n",
    "Eine Methode damit umzugehen ist SMOTE (Synthetic minority oversampling technique). Hierbei werden synthetische Daten erzeugt, ohne ein overfitting, also eine Überanpassung, des Modells zu erzeugen. Im Gegensatz dazu führt ein Resampling (Random-Oversamplig) eher zur Überanpassung des Modells. Eine weitere Methode wäre das sog. Undersampling, bei dem Daten aus der Mehrheitsklasse entfernt würden, bis eine gleichmäßige Durchmischung erreciht ist. Dadurch würde die Gesamtzahl der Samples minimiert und der Datensatz insgesamt kleiner werden. Schließlich würde ich mich für SMOTE entscheiden, wenn ich zu task 2 gelange und feststelle, dass die Performance der Modelle nicht gut ist.\n",
    "\n",
    "Hinweis: Random Forests und die Logistische Regression werden als Modelle deklariert, die gut mit kleinen und unbalancierten Datensätzen umgehen können.\n",
    "\n",
    "[source1](https://www.youtube.com/watch?v=GR-OW5asKlk)\n",
    "\n",
    "[source2](https://www.youtube.com/watch?v=flhjn6e6wnY)"
   ]
  },
  {
   "cell_type": "code",
   "execution_count": 26,
   "id": "9e19a7ac",
   "metadata": {},
   "outputs": [
    {
     "name": "stdout",
     "output_type": "stream",
     "text": [
      "Es gibt für die Spalte CLV_Continuous insgesamt folgende Werte: [21696.25602216 15918.89112843 10361.31577344 ... 24433.26710959\n",
      "  7194.89713234 19968.86948953] \n",
      "\n",
      "Datentyp: float64 \n",
      "\n"
     ]
    },
    {
     "data": {
      "image/png": "[encoded data removed]",
      "text/plain": [
       "<Figure size 640x480 with 1 Axes>"
      ]
     },
     "metadata": {},
     "output_type": "display_data"
    }
   ],
   "source": [
    "# Überprüfe die Spalte CLV_Continuous\n",
    "print(\"Es gibt für die Spalte CLV_Continuous insgesamt folgende Werte:\", df['CLV_Continuous'].unique(), \"\\n\")\n",
    "print(\"Datentyp:\", df['CLV_Continuous'].dtype, \"\\n\")\n",
    "\n",
    "# Boxplot der Spalte CLV_Continuous\n",
    "plt.boxplot(df['CLV_Continuous'])\n",
    "plt.title('CLV_Continuous')\n",
    "plt.ylabel('Wert')\n",
    "plt.show()"
   ]
  },
  {
   "cell_type": "markdown",
   "id": "0c4d480a",
   "metadata": {},
   "source": [
    "Die Zielvariablen haben keine Ausreißer und besitzen die erwarteten Werte lt. Beschreibung. Sie bedürfen daher keiner weiteren Bearbeitung bzw. Säuberung. "
   ]
  },
  {
   "cell_type": "code",
   "execution_count": 27,
   "id": "e908240f",
   "metadata": {},
   "outputs": [
    {
     "name": "stdout",
     "output_type": "stream",
     "text": [
      "Es wurden insgesamt: 152 Zeilen durch das Data-Cleaning entfernt.\n",
      "Der Datensatz enthält nun insgesamt: 8510 Zeilen und 23 Spalten.\n"
     ]
    }
   ],
   "source": [
    "# Zeige die Anzahl der Zeilen, die durch das Data-Cleaning beseitigt werden mussten\n",
    "rows_at_end = df.shape[0]\n",
    "\n",
    "print(\"Es wurden insgesamt:\", rows_at_begin - rows_at_end, \"Zeilen durch das Data-Cleaning entfernt.\")\n",
    "print(\"Der Datensatz enthält nun insgesamt:\", df.shape[0], \"Zeilen und\", df.shape[1], \"Spalten.\")\n",
    "\n",
    "# write back to csv\n",
    "df.to_csv(\"./data/dataset_cleaned.csv\", index=False)"
   ]
  },
  {
   "cell_type": "markdown",
   "id": "520368d2",
   "metadata": {},
   "source": [
    "An dieser Stelle ist das sog. Data-Cleaning abgeschlossen!"
   ]
  }
 ],
 "metadata": {
  "kernelspec": {
   "display_name": "Python (Hausarbeit)",
   "language": "python",
   "name": "hausarbeit"
  },
  "language_info": {
   "codemirror_mode": {
    "name": "ipython",
    "version": 3
   },
   "file_extension": ".py",
   "mimetype": "text/x-python",
   "name": "python",
   "nbconvert_exporter": "python",
   "pygments_lexer": "ipython3",
   "version": "3.10.18"
  }
 },
 "nbformat": 4,
 "nbformat_minor": 5
}
